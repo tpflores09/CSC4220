{
  "nbformat": 4,
  "nbformat_minor": 0,
  "metadata": {
    "colab": {
      "provenance": []
    },
    "kernelspec": {
      "name": "python3",
      "display_name": "Python 3"
    },
    "language_info": {
      "name": "python"
    }
  },
  "cells": [
    {
      "cell_type": "markdown",
      "source": [
        "**Dataset-1:** This part of the lab will use a dataset that represents student admission into University based on Exam-1 and Exam-2 test scores. The dataset is uploaded in iLearn as Dataset-1. You need to upload it to your Google Colab. This represents linearly separable data.  "
      ],
      "metadata": {
        "id": "4z00pE6jf1HJ"
      }
    },
    {
      "cell_type": "markdown",
      "source": [
        "**Step-1: Import Libraries:** The first step in any project is to import the libraries we are going to use."
      ],
      "metadata": {
        "id": "F2HOz7tDgSxu"
      }
    },
    {
      "cell_type": "code",
      "source": [
        "import pandas as pd\n",
        "import numpy as np\n",
        "import matplotlib as mpl\n",
        "import matplotlib.pyplot as plt\n",
        "from scipy.optimize import minimize\n",
        "from sklearn.preprocessing import PolynomialFeatures"
      ],
      "metadata": {
        "id": "NGOrwTz3gVCh"
      },
      "execution_count": null,
      "outputs": []
    },
    {
      "cell_type": "markdown",
      "source": [
        "**Step-2: Load the Data:** The next step is to load the data. In this lab, the dataset is saved as .txt file (previous lab the data was saved as .csv file). Here, we will implement a function that helps us to load the data."
      ],
      "metadata": {
        "id": "w_wToaLYgjAe"
      }
    },
    {
      "cell_type": "code",
      "source": [
        "def loaddata(file, delimeter):\n",
        "    data = np.loadtxt(file, delimiter=delimeter)\n",
        "    print('Dimensions: ',data.shape)\n",
        "    print(data[1:6,:])\n",
        "    return(data)"
      ],
      "metadata": {
        "id": "aHp-batmg77R"
      },
      "execution_count": null,
      "outputs": []
    },
    {
      "cell_type": "markdown",
      "source": [
        "Now, let's load the data for this problem."
      ],
      "metadata": {
        "id": "aIHZq15HhV2n"
      }
    },
    {
      "cell_type": "code",
      "source": [
        "data = loaddata('Dataset-1.txt', ',')"
      ],
      "metadata": {
        "colab": {
          "base_uri": "https://localhost:8080/"
        },
        "id": "n3nDo3hThYZp",
        "outputId": "7a5088d6-b9ac-4638-8541-5a5f7ecad844"
      },
      "execution_count": null,
      "outputs": [
        {
          "output_type": "stream",
          "name": "stdout",
          "text": [
            "Dimensions:  (100, 3)\n",
            "[[30.28671077 43.89499752  0.        ]\n",
            " [35.84740877 72.90219803  0.        ]\n",
            " [60.18259939 86.3085521   1.        ]\n",
            " [79.03273605 75.34437644  1.        ]\n",
            " [45.08327748 56.31637178  0.        ]]\n"
          ]
        }
      ]
    },
    {
      "cell_type": "markdown",
      "source": [
        "*Process the data:* Let's separate our X (features) and Y (labels) parts of the data."
      ],
      "metadata": {
        "id": "lrQtia3KiSkg"
      }
    },
    {
      "cell_type": "code",
      "source": [
        "X = np.c_[np.ones((data.shape[0],1)), data[:,0:2]]\n",
        "y = np.c_[data[:,2]]"
      ],
      "metadata": {
        "id": "-K4jNrTPiX66"
      },
      "execution_count": null,
      "outputs": []
    },
    {
      "cell_type": "markdown",
      "source": [
        "*Plot the data:* We will implement a function to help us with the scatter plot."
      ],
      "metadata": {
        "id": "lAgD8Ar0hjsG"
      }
    },
    {
      "cell_type": "code",
      "source": [
        "def plotData(data, label_x, label_y, label_pos, label_neg, axes=None):\n",
        "    # Get indexes for class 0 and class 1\n",
        "    neg = data[:,2] == 0\n",
        "    pos = data[:,2] == 1\n",
        "\n",
        "    # If no specific axes object has been passed, get the current axes.\n",
        "    if axes == None:\n",
        "        axes = plt.gca()\n",
        "    axes.scatter(data[pos][:,0], data[pos][:,1], marker='+', c='k', s=60, linewidth=2, label=label_pos)\n",
        "    axes.scatter(data[neg][:,0], data[neg][:,1], c='y', s=60, label=label_neg)\n",
        "    axes.set_xlabel(label_x)\n",
        "    axes.set_ylabel(label_y)\n",
        "    axes.legend(frameon= True, fancybox = True);"
      ],
      "metadata": {
        "id": "dWfkr3mAhoKB"
      },
      "execution_count": null,
      "outputs": []
    },
    {
      "cell_type": "markdown",
      "source": [
        "Let's plot the data by calling our plot function."
      ],
      "metadata": {
        "id": "AJHFqU-nirWQ"
      }
    },
    {
      "cell_type": "code",
      "source": [
        "plotData(data, 'Exam 1 score', 'Exam 2 score', 'Admitted', 'Not admitted')"
      ],
      "metadata": {
        "colab": {
          "base_uri": "https://localhost:8080/",
          "height": 279
        },
        "id": "3UbUSM8visQL",
        "outputId": "7de3d982-0cb5-4ea8-f9bd-bc10e6bdee57"
      },
      "execution_count": null,
      "outputs": [
        {
          "output_type": "display_data",
          "data": {
            "text/plain": [
              "<Figure size 432x288 with 1 Axes>"
            ],
            "image/png": "[encoded data removed]"
          },
          "metadata": {
            "needs_background": "light"
          }
        }
      ]
    },
    {
      "cell_type": "markdown",
      "source": [
        "**Step-3: Implement a Logistic Regression Model:**"
      ],
      "metadata": {
        "id": "GzYULiymjDUa"
      }
    },
    {
      "cell_type": "markdown",
      "source": [
        "*Step-3.1: Sigmoid Function:* Let's implement the Sigmoid function."
      ],
      "metadata": {
        "id": "0E73fD0KjFdo"
      }
    },
    {
      "cell_type": "code",
      "source": [
        "def sigmoid(z):\n",
        "    return(1 / (1 + np.exp(-z)))"
      ],
      "metadata": {
        "id": "MI3N20TJjPvw"
      },
      "execution_count": null,
      "outputs": []
    },
    {
      "cell_type": "markdown",
      "source": [
        "Let's test it:"
      ],
      "metadata": {
        "id": "89i0v0KPjVBe"
      }
    },
    {
      "cell_type": "code",
      "source": [
        "sigmoid(0)"
      ],
      "metadata": {
        "colab": {
          "base_uri": "https://localhost:8080/"
        },
        "id": "29lbYOSFjNaV",
        "outputId": "92747beb-9747-49ec-e441-6f0ca0cf168a"
      },
      "execution_count": null,
      "outputs": [
        {
          "output_type": "execute_result",
          "data": {
            "text/plain": [
              "0.5"
            ]
          },
          "metadata": {},
          "execution_count": 8
        }
      ]
    },
    {
      "cell_type": "markdown",
      "source": [
        "*Step-3.2: Cost Function and Gradient:* Let's first implement a function to calculate the cost  $J$. This function will return the cost value."
      ],
      "metadata": {
        "id": "x-A8m6zJjfgH"
      }
    },
    {
      "cell_type": "code",
      "source": [
        "def costFunction(theta, X, y):\n",
        "    m = y.size\n",
        "    f = sigmoid(X.dot(theta))\n",
        "\n",
        "    J = -1*(1/m)*(np.log(f).T.dot(y)+np.log(1-f).T.dot(1-y))\n",
        "\n",
        "    if np.isnan(J[0]):\n",
        "        return(np.inf)\n",
        "    return(J[0])"
      ],
      "metadata": {
        "id": "-5TKTFRZjuU3"
      },
      "execution_count": null,
      "outputs": []
    },
    {
      "cell_type": "markdown",
      "source": [
        "Let's implement another function to get the gradient."
      ],
      "metadata": {
        "id": "ob89M6K1kG9D"
      }
    },
    {
      "cell_type": "code",
      "source": [
        "def gradient(theta, X, y):\n",
        "    m = y.size\n",
        "    f = sigmoid(X.dot(theta.reshape(-1,1)))\n",
        "\n",
        "    grad =(1/m)*X.T.dot(f-y)\n",
        "\n",
        "    return(grad.flatten())"
      ],
      "metadata": {
        "id": "7gJlMSFHkJ3k"
      },
      "execution_count": null,
      "outputs": []
    },
    {
      "cell_type": "markdown",
      "source": [
        "Let's test our cost and gradient functions."
      ],
      "metadata": {
        "id": "Q2I-uvNMkSj5"
      }
    },
    {
      "cell_type": "code",
      "source": [
        "initial_theta = np.zeros(X.shape[1])\n",
        "cost = costFunction(initial_theta, X, y)\n",
        "grad = gradient(initial_theta, X, y)\n",
        "print('Cost: \\n', cost)\n",
        "print('Grad: \\n', grad)"
      ],
      "metadata": {
        "colab": {
          "base_uri": "https://localhost:8080/"
        },
        "id": "xG7-jBo4kVah",
        "outputId": "f6e03898-549d-4dd8-c34c-cf1605fe7c25"
      },
      "execution_count": null,
      "outputs": [
        {
          "output_type": "stream",
          "name": "stdout",
          "text": [
            "Cost: \n",
            " 0.6931471805599453\n",
            "Grad: \n",
            " [ -0.1        -12.00921659 -11.26284221]\n"
          ]
        }
      ]
    },
    {
      "cell_type": "markdown",
      "source": [
        "*Step-3.3: Finding the Optimal $\\theta$:* Next, train our model to get the optimal $\\theta$ values. This will be done by minimizing the cost function. We will use the built-in minimization function in python.   "
      ],
      "metadata": {
        "id": "rf3OCO4DkcTm"
      }
    },
    {
      "cell_type": "code",
      "source": [
        "opt_theta = minimize(costFunction, initial_theta, args=(X,y), method=None, jac=gradient, options={'maxiter':400})"
      ],
      "metadata": {
        "colab": {
          "base_uri": "https://localhost:8080/"
        },
        "id": "kiW5i_VGku1g",
        "outputId": "c6d98d6a-5946-4393-c400-1d528acd795c"
      },
      "execution_count": null,
      "outputs": [
        {
          "output_type": "stream",
          "name": "stderr",
          "text": [
            "<ipython-input-9-afe53ac04d20>:5: RuntimeWarning: divide by zero encountered in log\n",
            "  J = -1*(1/m)*(np.log(f).T.dot(y)+np.log(1-f).T.dot(1-y))\n",
            "<ipython-input-9-afe53ac04d20>:5: RuntimeWarning: divide by zero encountered in log\n",
            "  J = -1*(1/m)*(np.log(f).T.dot(y)+np.log(1-f).T.dot(1-y))\n"
          ]
        }
      ]
    },
    {
      "cell_type": "markdown",
      "source": [
        "Let's print the optimal values of $\\theta$."
      ],
      "metadata": {
        "id": "oYSArWaOmKUx"
      }
    },
    {
      "cell_type": "code",
      "source": [
        "print('Thetas: \\n', opt_theta)"
      ],
      "metadata": {
        "id": "LKV4YCD0l00t"
      },
      "execution_count": null,
      "outputs": []
    },
    {
      "cell_type": "markdown",
      "source": [
        "*Step-3.4: Build a Classification Model:* Let's implement a classification function that compares the probability of being in a class with some threshold and then returns the class label."
      ],
      "metadata": {
        "id": "PZh8IfDxlLtJ"
      }
    },
    {
      "cell_type": "code",
      "source": [
        "def classify(theta, X, threshold=0.5):\n",
        "    p = sigmoid(X.dot(theta.T)) >= threshold\n",
        "    return(p.astype('int'))"
      ],
      "metadata": {
        "id": "YIvjbF-9lVWA"
      },
      "execution_count": null,
      "outputs": []
    },
    {
      "cell_type": "markdown",
      "source": [
        "Now, let's use the classify function and find the accuracy of our classification."
      ],
      "metadata": {
        "id": "eOpnQ3HLldcV"
      }
    },
    {
      "cell_type": "code",
      "source": [
        "p = classify(opt_theta.x, X)\n",
        "print('Train accuracy {}%'.format(100*sum(p == y.ravel())/p.size))"
      ],
      "metadata": {
        "colab": {
          "base_uri": "https://localhost:8080/"
        },
        "id": "bWIxvk08ludS",
        "outputId": "267cbd20-d2dc-4aa3-e95d-29c34d62e871"
      },
      "execution_count": null,
      "outputs": [
        {
          "output_type": "stream",
          "name": "stdout",
          "text": [
            "Train accuracy 89.0%\n"
          ]
        }
      ]
    },
    {
      "cell_type": "markdown",
      "source": [
        "*Step-3.5: Plot the Decision Boundary:* Let's plot the decision boundary."
      ],
      "metadata": {
        "id": "mJ4isJbPmR7z"
      }
    },
    {
      "cell_type": "code",
      "source": [
        "plotData(data, 'Exam 1 score', 'Exam 2 score', 'Admitted', 'Not admitted')\n",
        "x1_min, x1_max = X[:,1].min(), X[:,1].max(),\n",
        "x2_min, x2_max = X[:,2].min(), X[:,2].max(),\n",
        "xx1, xx2 = np.meshgrid(np.linspace(x1_min, x1_max), np.linspace(x2_min, x2_max))\n",
        "f = sigmoid(np.c_[np.ones((xx1.ravel().shape[0],1)), xx1.ravel(), xx2.ravel()].dot(opt_theta.x))\n",
        "f = f.reshape(xx1.shape)\n",
        "plt.contour(xx1, xx2, f, [0.5], linewidths=1, colors='b');"
      ],
      "metadata": {
        "colab": {
          "base_uri": "https://localhost:8080/",
          "height": 279
        },
        "id": "m8Pwer-1mad9",
        "outputId": "09e98cbd-42ca-4dd2-feac-0b772c86c486"
      },
      "execution_count": null,
      "outputs": [
        {
          "output_type": "display_data",
          "data": {
            "text/plain": [
              "<Figure size 432x288 with 1 Axes>"
            ],
            "image/png": "[encoded data removed]"
          },
          "metadata": {
            "needs_background": "light"
          }
        }
      ]
    },
    {
      "cell_type": "markdown",
      "source": [
        "**Built-in Logistic Regression Function:** Let's use the built-in function in python for logistic regression."
      ],
      "metadata": {
        "id": "NinifFsHnE6d"
      }
    },
    {
      "cell_type": "markdown",
      "source": [
        "*1-Import Libraries:*"
      ],
      "metadata": {
        "id": "WJuFJWKloF9s"
      }
    },
    {
      "cell_type": "code",
      "source": [
        "from sklearn.linear_model import LogisticRegression\n",
        "from sklearn import metrics"
      ],
      "metadata": {
        "id": "SNAuYsf0oLwK"
      },
      "execution_count": null,
      "outputs": []
    },
    {
      "cell_type": "markdown",
      "source": [
        "*2-Train the Model:*"
      ],
      "metadata": {
        "id": "xcRUWVQZoOJw"
      }
    },
    {
      "cell_type": "code",
      "source": [
        "logisticRegr = LogisticRegression()\n",
        "logisticRegr.fit(X, y)"
      ],
      "metadata": {
        "colab": {
          "base_uri": "https://localhost:8080/"
        },
        "id": "aBi4XP-7oTM4",
        "outputId": "6da947e3-7a8c-4bfd-ad2d-ced852c34a68"
      },
      "execution_count": null,
      "outputs": [
        {
          "output_type": "stream",
          "name": "stderr",
          "text": [
            "/usr/local/lib/python3.8/dist-packages/sklearn/utils/validation.py:993: DataConversionWarning: A column-vector y was passed when a 1d array was expected. Please change the shape of y to (n_samples, ), for example using ravel().\n",
            "  y = column_or_1d(y, warn=True)\n"
          ]
        },
        {
          "output_type": "execute_result",
          "data": {
            "text/plain": [
              "LogisticRegression()"
            ]
          },
          "metadata": {},
          "execution_count": 18
        }
      ]
    },
    {
      "cell_type": "markdown",
      "source": [
        "*3-Test the Model:*"
      ],
      "metadata": {
        "id": "z_NncrdGoW8S"
      }
    },
    {
      "cell_type": "code",
      "source": [
        "predictions = logisticRegr.predict(X)"
      ],
      "metadata": {
        "id": "dnsAHGj7obOm"
      },
      "execution_count": null,
      "outputs": []
    },
    {
      "cell_type": "markdown",
      "source": [
        "*4-Evaluate the Model:*"
      ],
      "metadata": {
        "id": "FXl_5CVYodbY"
      }
    },
    {
      "cell_type": "code",
      "source": [
        "score = logisticRegr.score(X, y)\n",
        "print(score)"
      ],
      "metadata": {
        "colab": {
          "base_uri": "https://localhost:8080/"
        },
        "id": "Gx9hZinCogWz",
        "outputId": "305bea62-e0f4-4f29-be26-a34bed7ccf7e"
      },
      "execution_count": null,
      "outputs": [
        {
          "output_type": "stream",
          "name": "stdout",
          "text": [
            "0.89\n"
          ]
        }
      ]
    },
    {
      "cell_type": "markdown",
      "source": [
        "**This is the same score we got using the model we developed from scratch!**"
      ],
      "metadata": {
        "id": "YT0F3skhomtk"
      }
    },
    {
      "cell_type": "code",
      "source": [
        "cm = metrics.confusion_matrix(y, predictions)\n",
        "print(cm)"
      ],
      "metadata": {
        "colab": {
          "base_uri": "https://localhost:8080/"
        },
        "id": "2VxXY5Y8nSw1",
        "outputId": "9476a54d-58cc-45d1-afcf-a7d34e26fb1d"
      },
      "execution_count": null,
      "outputs": [
        {
          "output_type": "stream",
          "name": "stdout",
          "text": [
            "[[34  6]\n",
            " [ 5 55]]\n"
          ]
        }
      ]
    },
    {
      "cell_type": "markdown",
      "source": [
        "**Dataset-2:** This part of the lab will use a dataset that represents microchip quality (accepted or rejected) based on two test scores. The dataset is uploaded in iLearn (assignment) as Dataset-2. You need to upload it to your Google Colab. This represents non-linearly separable data.  "
      ],
      "metadata": {
        "id": "60mn2_yK5raU"
      }
    },
    {
      "cell_type": "markdown",
      "source": [
        "**Step-2: Load the Data:** We can use the loaddata function we created earlier."
      ],
      "metadata": {
        "id": "IlUYAMx26SpR"
      }
    },
    {
      "cell_type": "code",
      "source": [
        "data2 = loaddata('Dataset-2.txt', ',')"
      ],
      "metadata": {
        "colab": {
          "base_uri": "https://localhost:8080/"
        },
        "id": "KPIVFOKk6dN-",
        "outputId": "6943a3fc-92e5-4598-f2b5-dc4739d8970e"
      },
      "execution_count": null,
      "outputs": [
        {
          "output_type": "stream",
          "name": "stdout",
          "text": [
            "Dimensions:  (118, 3)\n",
            "[[-0.092742  0.68494   1.      ]\n",
            " [-0.21371   0.69225   1.      ]\n",
            " [-0.375     0.50219   1.      ]\n",
            " [-0.51325   0.46564   1.      ]\n",
            " [-0.52477   0.2098    1.      ]]\n"
          ]
        }
      ]
    },
    {
      "cell_type": "markdown",
      "source": [
        "Then, we separate our features as before:"
      ],
      "metadata": {
        "id": "gOuan8NA6moP"
      }
    },
    {
      "cell_type": "code",
      "source": [
        "y = np.c_[data2[:,2]]\n",
        "X = data2[:,0:2]"
      ],
      "metadata": {
        "id": "DOaw7FyU6qdR"
      },
      "execution_count": null,
      "outputs": []
    },
    {
      "cell_type": "markdown",
      "source": [
        "And we plot the data using the plotData function we created before:"
      ],
      "metadata": {
        "id": "hvK-mA9e6t8_"
      }
    },
    {
      "cell_type": "code",
      "source": [
        "plotData(data2, 'Microchip Test 1', 'Microchip Test 2', 'y = 1', 'y = 0')"
      ],
      "metadata": {
        "colab": {
          "base_uri": "https://localhost:8080/",
          "height": 279
        },
        "id": "2Yz_qhuM60Wm",
        "outputId": "de525555-4ed7-486a-c7da-a2b111cf8d33"
      },
      "execution_count": null,
      "outputs": [
        {
          "output_type": "display_data",
          "data": {
            "text/plain": [
              "<Figure size 432x288 with 1 Axes>"
            ],
            "image/png": "[encoded data removed]"
          },
          "metadata": {
            "needs_background": "light"
          }
        }
      ]
    },
    {
      "cell_type": "markdown",
      "source": [
        "As you can see this data cannot be separated by a line, we need to separate the two classes using non-linear decision boundary. For that, we need higher order features. As stated in the assignment, we will use a function to create these higher order features."
      ],
      "metadata": {
        "id": "-22oiebG64ML"
      }
    },
    {
      "cell_type": "code",
      "source": [
        "# Note that this function inserts a column with 'ones' in the design matrix for the intercept.\n",
        "poly = PolynomialFeatures(6)\n",
        "XX = poly.fit_transform(data2[:,0:2])\n",
        "XX.shape"
      ],
      "metadata": {
        "colab": {
          "base_uri": "https://localhost:8080/"
        },
        "id": "3Gm2x5Mr7K48",
        "outputId": "7f899865-153f-4d51-8eea-d79e6fd2c4da"
      },
      "execution_count": null,
      "outputs": [
        {
          "output_type": "execute_result",
          "data": {
            "text/plain": [
              "(118, 28)"
            ]
          },
          "metadata": {},
          "execution_count": 27
        }
      ]
    },
    {
      "cell_type": "markdown",
      "source": [
        "**Step-3: Implement Logistic Regression with Regularization:**"
      ],
      "metadata": {
        "id": "Yf-fVmzs7QYp"
      }
    },
    {
      "cell_type": "markdown",
      "source": [
        "As stated in the assignment, we will update our cost and gradient functions to have a regularization term. This is because we will have higher order features and we do not want our model to be too complex to avoid overfitting."
      ],
      "metadata": {
        "id": "MYpbyi6K7XBg"
      }
    },
    {
      "cell_type": "markdown",
      "source": [
        "*Regularized Cost Function:*"
      ],
      "metadata": {
        "id": "wcG6ugYU7g3N"
      }
    },
    {
      "cell_type": "code",
      "source": [
        "def costFunctionReg(theta, reg, *args):\n",
        "    m = y.size\n",
        "    f = sigmoid(XX.dot(theta))\n",
        "\n",
        "    J = -1*(1/m)*(np.log(f).T.dot(y)+np.log(1-f).T.dot(1-y)) + (reg/(2*m))*np.sum(np.square(theta[1:]))\n",
        "\n",
        "    if np.isnan(J[0]):\n",
        "        return(np.inf)\n",
        "    return(J[0])"
      ],
      "metadata": {
        "id": "Dm-1RgJF7jxs"
      },
      "execution_count": null,
      "outputs": []
    },
    {
      "cell_type": "markdown",
      "source": [
        "*Regularized Gradient Function:*"
      ],
      "metadata": {
        "id": "is0fqXlc7qYr"
      }
    },
    {
      "cell_type": "code",
      "source": [
        "def gradientReg(theta, reg, *args):\n",
        "    m = y.size\n",
        "    f = sigmoid(XX.dot(theta.reshape(-1,1)))\n",
        "\n",
        "    grad = (1/m)*XX.T.dot(f-y) + (reg/m)*np.r_[[[0]],theta[1:].reshape(-1,1)]\n",
        "\n",
        "    return(grad.flatten())"
      ],
      "metadata": {
        "id": "5Qebpu0r7uxL"
      },
      "execution_count": null,
      "outputs": []
    },
    {
      "cell_type": "markdown",
      "source": [
        "Then, we train our model ==> First, with regularization parameter = 0 (lambda=0):"
      ],
      "metadata": {
        "id": "MM22Ngkt77vZ"
      }
    },
    {
      "cell_type": "code",
      "source": [
        "lambd = 0\n",
        "initial_theta = np.zeros(XX.shape[1])\n",
        "opt_theta2 = minimize(costFunctionReg, initial_theta, args=(lambd, XX, y), method=None, jac=gradientReg, options={'maxiter':3000})"
      ],
      "metadata": {
        "id": "i_9sjB6-79YU"
      },
      "execution_count": null,
      "outputs": []
    },
    {
      "cell_type": "markdown",
      "source": [
        "Then, let's see the decision boundary: (note: here I made maxiter = 3000, these are the maximum number of iterations in the minimization function, when you choose large number of iterations, your model with converge to an optimal solution)"
      ],
      "metadata": {
        "id": "EXYQk6W88JIq"
      }
    },
    {
      "cell_type": "code",
      "source": [
        "plotData(data2, 'Microchip Test 1', 'Microchip Test 2', 'y = 1', 'y = 0')\n",
        "x1_min, x1_max = X[:,0].min(), X[:,0].max(),\n",
        "x2_min, x2_max = X[:,1].min(), X[:,1].max(),\n",
        "xx1, xx2 = np.meshgrid(np.linspace(x1_min, x1_max), np.linspace(x2_min, x2_max))\n",
        "h = sigmoid(poly.fit_transform(np.c_[xx1.ravel(), xx2.ravel()]).dot(opt_theta2.x))\n",
        "h = h.reshape(xx1.shape)\n",
        "plt.contour(xx1, xx2, h, [0.5], linewidths=1, colors='b');"
      ],
      "metadata": {
        "colab": {
          "base_uri": "https://localhost:8080/",
          "height": 314
        },
        "id": "1nOYjj_O8VxW",
        "outputId": "b1ae42e5-7fb0-42de-9a9b-55c902d774a3"
      },
      "execution_count": null,
      "outputs": [
        {
          "output_type": "stream",
          "name": "stderr",
          "text": [
            "<ipython-input-7-71a3b42dc05c>:2: RuntimeWarning: overflow encountered in exp\n",
            "  return(1 / (1 + np.exp(-z)))\n"
          ]
        },
        {
          "output_type": "display_data",
          "data": {
            "text/plain": [
              "<Figure size 432x288 with 1 Axes>"
            ],
            "image/png": "[encoded data removed]"
          },
          "metadata": {
            "needs_background": "light"
          }
        }
      ]
    },
    {
      "cell_type": "markdown",
      "source": [
        "This is a very complex decision boundary!! Let's simplify our model by increasing our regularization term. Let's make lambda=1. We retrain the model when lambda=1 and we plot the decision boundary:"
      ],
      "metadata": {
        "id": "VPDfmymY8ZN0"
      }
    },
    {
      "cell_type": "code",
      "source": [
        "lambd = 1\n",
        "opt_theta2 = minimize(costFunctionReg, initial_theta, args=(lambd, XX, y), method=None, jac=gradientReg, options={'maxiter':3000})\n",
        "plotData(data2, 'Microchip Test 1', 'Microchip Test 2', 'y = 1', 'y = 0')\n",
        "x1_min, x1_max = X[:,0].min(), X[:,0].max(),\n",
        "x2_min, x2_max = X[:,1].min(), X[:,1].max(),\n",
        "xx1, xx2 = np.meshgrid(np.linspace(x1_min, x1_max), np.linspace(x2_min, x2_max))\n",
        "h = sigmoid(poly.fit_transform(np.c_[xx1.ravel(), xx2.ravel()]).dot(opt_theta2.x))\n",
        "h = h.reshape(xx1.shape)\n",
        "plt.contour(xx1, xx2, h, [0.5], linewidths=1, colors='b')"
      ],
      "metadata": {
        "colab": {
          "base_uri": "https://localhost:8080/",
          "height": 296
        },
        "id": "H9SozyH98lJX",
        "outputId": "ee257273-32c1-4299-8405-49dc4edff8e2"
      },
      "execution_count": null,
      "outputs": [
        {
          "output_type": "execute_result",
          "data": {
            "text/plain": [
              "<matplotlib.contour.QuadContourSet at 0x7f3f8153bf40>"
            ]
          },
          "metadata": {},
          "execution_count": 32
        },
        {
          "output_type": "display_data",
          "data": {
            "text/plain": [
              "<Figure size 432x288 with 1 Axes>"
            ],
            "image/png": "[encoded data removed]"
          },
          "metadata": {
            "needs_background": "light"
          }
        }
      ]
    },
    {
      "cell_type": "markdown",
      "source": [
        "This is a much less complex complex decision boundary, your model will fit better with such a boundary. Let's check the accuracy of this model:"
      ],
      "metadata": {
        "id": "QVFAqHnd8pCJ"
      }
    },
    {
      "cell_type": "code",
      "source": [
        "accuracy = 100*sum(classify(opt_theta2.x, XX) == y.ravel())/y.size\n",
        "print('Train accuracy {}% with Lambda = {}'.format(np.round(accuracy, decimals=2), lambd))"
      ],
      "metadata": {
        "colab": {
          "base_uri": "https://localhost:8080/"
        },
        "id": "7Z4swawn8wb-",
        "outputId": "7bdcee28-6156-4ce2-928d-33a8305301b7"
      },
      "execution_count": null,
      "outputs": [
        {
          "output_type": "stream",
          "name": "stdout",
          "text": [
            "Train accuracy 83.05% with Lambda = 1\n"
          ]
        }
      ]
    },
    {
      "cell_type": "markdown",
      "source": [
        "Good result! Let's see what happens when we further enlarge lambda, e.g., lambda=10\""
      ],
      "metadata": {
        "id": "41QWS2eY80WG"
      }
    },
    {
      "cell_type": "code",
      "source": [
        "lambd = 10\n",
        "opt_theta2 = minimize(costFunctionReg, initial_theta, args=(lambd, XX, y), method=None, jac=gradientReg, options={'maxiter':3000})\n",
        "plotData(data2, 'Microchip Test 1', 'Microchip Test 2', 'y = 1', 'y = 0')\n",
        "x1_min, x1_max = X[:,0].min(), X[:,0].max(),\n",
        "x2_min, x2_max = X[:,1].min(), X[:,1].max(),\n",
        "xx1, xx2 = np.meshgrid(np.linspace(x1_min, x1_max), np.linspace(x2_min, x2_max))\n",
        "h = sigmoid(poly.fit_transform(np.c_[xx1.ravel(), xx2.ravel()]).dot(opt_theta2.x))\n",
        "h = h.reshape(xx1.shape)\n",
        "plt.contour(xx1, xx2, h, [0.5], linewidths=1, colors='b')"
      ],
      "metadata": {
        "colab": {
          "base_uri": "https://localhost:8080/",
          "height": 296
        },
        "id": "-D9oNVYv85xK",
        "outputId": "1eb10b6e-e8d3-4b53-9949-4f86cad8a33b"
      },
      "execution_count": null,
      "outputs": [
        {
          "output_type": "execute_result",
          "data": {
            "text/plain": [
              "<matplotlib.contour.QuadContourSet at 0x7f3f8156d430>"
            ]
          },
          "metadata": {},
          "execution_count": 34
        },
        {
          "output_type": "display_data",
          "data": {
            "text/plain": [
              "<Figure size 432x288 with 1 Axes>"
            ],
            "image/png": "[encoded data removed]"
          },
          "metadata": {
            "needs_background": "light"
          }
        }
      ]
    },
    {
      "cell_type": "markdown",
      "source": [
        "You can see the decision boundary is becoming off! This will indeed have more wrong classification results than lambda=1. Let's check:"
      ],
      "metadata": {
        "id": "0t2YYvh09A9o"
      }
    },
    {
      "cell_type": "code",
      "source": [
        "accuracy = 100*sum(classify(opt_theta2.x, XX) == y.ravel())/y.size\n",
        "print('Train accuracy {}% with Lambda = {}'.format(np.round(accuracy, decimals=2), lambd))"
      ],
      "metadata": {
        "colab": {
          "base_uri": "https://localhost:8080/"
        },
        "id": "CQE7Rnm99J-W",
        "outputId": "806b8926-a147-4387-d373-2b3df064e1e9"
      },
      "execution_count": null,
      "outputs": [
        {
          "output_type": "stream",
          "name": "stdout",
          "text": [
            "Train accuracy 74.58% with Lambda = 10\n"
          ]
        }
      ]
    },
    {
      "cell_type": "markdown",
      "source": [
        "It is true! This model training accuracy is less than the previous one. Choosing lambda=1 is better than lambda=0 because the model will have less complex decision boundary. But, choosing lambda=10 is worse than lambda=1 as the decisin boundary is shifted we had many wrong classification. So, the model with lambda=1 would be the best among the three cases (lambda=0, lambda=1, and lambda=10)."
      ],
      "metadata": {
        "id": "dh_QN6ij9N0t"
      }
    }
  ]
}